{
 "cells": [
  {
   "cell_type": "code",
   "execution_count": 1,
   "metadata": {},
   "outputs": [
    {
     "name": "stderr",
     "output_type": "stream",
     "text": [
      "Updating HTML index of packages in '.Library'\n",
      "Making 'packages.html' ... done\n",
      "Updating HTML index of packages in '.Library'\n",
      "Making 'packages.html' ... done\n",
      "Updating HTML index of packages in '.Library'\n",
      "Making 'packages.html' ... done\n"
     ]
    }
   ],
   "source": [
    "install.packages(\"dummies\")\n",
    "install.packages(\"fastDummies\")\n",
    "install.packages('tidyverse')"
   ]
  },
  {
   "cell_type": "code",
   "execution_count": 2,
   "metadata": {},
   "outputs": [
    {
     "name": "stderr",
     "output_type": "stream",
     "text": [
      "\n",
      "Attaching package: ‘dplyr’\n",
      "\n",
      "The following objects are masked from ‘package:stats’:\n",
      "\n",
      "    filter, lag\n",
      "\n",
      "The following objects are masked from ‘package:base’:\n",
      "\n",
      "    intersect, setdiff, setequal, union\n",
      "\n",
      "dummies-1.5.6 provided by Decision Patterns\n",
      "\n",
      "── Attaching packages ─────────────────────────────────────── tidyverse 1.2.1 ──\n",
      "✔ ggplot2 3.0.0     ✔ purrr   0.2.5\n",
      "✔ tibble  1.4.2     ✔ stringr 1.3.1\n",
      "✔ tidyr   0.8.1     ✔ forcats 0.3.0\n",
      "── Conflicts ────────────────────────────────────────── tidyverse_conflicts() ──\n",
      "✖ dplyr::filter() masks stats::filter()\n",
      "✖ dplyr::lag()    masks stats::lag()\n"
     ]
    }
   ],
   "source": [
    "library(readr)\n",
    "library(dplyr)\n",
    "library(dummies)\n",
    "library(fastDummies)\n",
    "library(tidyverse)"
   ]
  },
  {
   "cell_type": "code",
   "execution_count": 3,
   "metadata": {},
   "outputs": [
    {
     "name": "stderr",
     "output_type": "stream",
     "text": [
      "Parsed with column specification:\n",
      "cols(\n",
      "  authorized_flag = col_character(),\n",
      "  card_id = col_character(),\n",
      "  city_id = col_integer(),\n",
      "  category_1 = col_character(),\n",
      "  installments = col_integer(),\n",
      "  category_3 = col_character(),\n",
      "  merchant_category_id = col_integer(),\n",
      "  merchant_id = col_character(),\n",
      "  month_lag = col_integer(),\n",
      "  purchase_amount = col_double(),\n",
      "  purchase_date = col_datetime(format = \"\"),\n",
      "  category_2 = col_double(),\n",
      "  state_id = col_integer(),\n",
      "  subsector_id = col_integer()\n",
      ")\n",
      "Parsed with column specification:\n",
      "cols(\n",
      "  .default = col_double(),\n",
      "  merchant_id = col_character(),\n",
      "  merchant_group_id = col_integer(),\n",
      "  merchant_category_id = col_integer(),\n",
      "  subsector_id = col_integer(),\n",
      "  category_1 = col_character(),\n",
      "  most_recent_sales_range = col_character(),\n",
      "  most_recent_purchases_range = col_character(),\n",
      "  active_months_lag3 = col_integer(),\n",
      "  active_months_lag6 = col_integer(),\n",
      "  active_months_lag12 = col_integer(),\n",
      "  category_4 = col_character(),\n",
      "  city_id = col_integer(),\n",
      "  state_id = col_integer()\n",
      ")\n",
      "See spec(...) for full column specifications.\n",
      "Parsed with column specification:\n",
      "cols(\n",
      "  authorized_flag = col_character(),\n",
      "  card_id = col_character(),\n",
      "  city_id = col_integer(),\n",
      "  category_1 = col_character(),\n",
      "  installments = col_integer(),\n",
      "  category_3 = col_character(),\n",
      "  merchant_category_id = col_integer(),\n",
      "  merchant_id = col_character(),\n",
      "  month_lag = col_integer(),\n",
      "  purchase_amount = col_double(),\n",
      "  purchase_date = col_datetime(format = \"\"),\n",
      "  category_2 = col_double(),\n",
      "  state_id = col_integer(),\n",
      "  subsector_id = col_integer()\n",
      ")\n",
      "Parsed with column specification:\n",
      "cols(\n",
      "  card_id = col_character(),\n",
      "  target = col_integer()\n",
      ")\n",
      "Parsed with column specification:\n",
      "cols(\n",
      "  first_active_month = col_character(),\n",
      "  card_id = col_character(),\n",
      "  feature_1 = col_integer(),\n",
      "  feature_2 = col_integer(),\n",
      "  feature_3 = col_integer()\n",
      ")\n",
      "Parsed with column specification:\n",
      "cols(\n",
      "  first_active_month = col_character(),\n",
      "  card_id = col_character(),\n",
      "  feature_1 = col_integer(),\n",
      "  feature_2 = col_integer(),\n",
      "  feature_3 = col_integer(),\n",
      "  target = col_double()\n",
      ")\n"
     ]
    }
   ],
   "source": [
    "historical_transactions <- read_csv(\"/Users/eve7947/Downloads/elo-merchant-category-recommendation/historical_transactions.csv\")\n",
    "merchants <- read_csv(\"/Users/eve7947/Downloads/elo-merchant-category-recommendation/merchants.csv\")\n",
    "new_merchant_transactions <- read_csv(\"/Users/eve7947/Downloads/elo-merchant-category-recommendation/new_merchant_transactions.csv\")\n",
    "sample_submission <- read_csv(\"/Users/eve7947/Downloads/elo-merchant-category-recommendation/sample_submission.csv\")\n",
    "test <- read_csv(\"/Users/eve7947/Downloads/elo-merchant-category-recommendation/test.csv\")\n",
    "train <- read_csv(\"/Users/eve7947/Downloads/elo-merchant-category-recommendation/train.csv\")"
   ]
  },
  {
   "cell_type": "markdown",
   "metadata": {},
   "source": [
    "### Training Data"
   ]
  },
  {
   "cell_type": "markdown",
   "metadata": {},
   "source": [
    "#### Check Data Quality"
   ]
  },
  {
   "cell_type": "code",
   "execution_count": 4,
   "metadata": {},
   "outputs": [
    {
     "data": {
      "text/plain": [
       " first_active_month   card_id            feature_1       feature_2    \n",
       " Length:201917      Length:201917      Min.   :1.000   Min.   :1.000  \n",
       " Class :character   Class :character   1st Qu.:2.000   1st Qu.:1.000  \n",
       " Mode  :character   Mode  :character   Median :3.000   Median :2.000  \n",
       "                                       Mean   :3.105   Mean   :1.745  \n",
       "                                       3rd Qu.:4.000   3rd Qu.:2.000  \n",
       "                                       Max.   :5.000   Max.   :3.000  \n",
       "   feature_3          target         \n",
       " Min.   :0.0000   Min.   :-33.21928  \n",
       " 1st Qu.:0.0000   1st Qu.: -0.88311  \n",
       " Median :1.0000   Median : -0.02344  \n",
       " Mean   :0.5656   Mean   : -0.39364  \n",
       " 3rd Qu.:1.0000   3rd Qu.:  0.76545  \n",
       " Max.   :1.0000   Max.   : 17.96507  "
      ]
     },
     "metadata": {},
     "output_type": "display_data"
    }
   ],
   "source": [
    "summary(train)"
   ]
  },
  {
   "cell_type": "code",
   "execution_count": 5,
   "metadata": {},
   "outputs": [
    {
     "data": {
      "text/html": [
       "<ol class=list-inline>\n",
       "\t<li>201917</li>\n",
       "\t<li>6</li>\n",
       "</ol>\n"
      ],
      "text/latex": [
       "\\begin{enumerate*}\n",
       "\\item 201917\n",
       "\\item 6\n",
       "\\end{enumerate*}\n"
      ],
      "text/markdown": [
       "1. 201917\n",
       "2. 6\n",
       "\n",
       "\n"
      ],
      "text/plain": [
       "[1] 201917      6"
      ]
     },
     "metadata": {},
     "output_type": "display_data"
    }
   ],
   "source": [
    "dim(train)"
   ]
  },
  {
   "cell_type": "code",
   "execution_count": 6,
   "metadata": {},
   "outputs": [
    {
     "data": {
      "text/html": [
       "0"
      ],
      "text/latex": [
       "0"
      ],
      "text/markdown": [
       "0"
      ],
      "text/plain": [
       "[1] 0"
      ]
     },
     "metadata": {},
     "output_type": "display_data"
    }
   ],
   "source": [
    "sum(is.na(train))"
   ]
  },
  {
   "cell_type": "code",
   "execution_count": 9,
   "metadata": {},
   "outputs": [
    {
     "name": "stdout",
     "output_type": "stream",
     "text": [
      "Observations: 201,917\n",
      "Variables: 6\n",
      "$ first_active_month <chr> \"2017-06\", \"2017-01\", \"2016-08\", \"2017-09\", \"201...\n",
      "$ card_id            <chr> \"C_ID_92a2005557\", \"C_ID_3d0044924f\", \"C_ID_d639...\n",
      "$ feature_1          <int> 5, 4, 2, 4, 1, 4, 3, 3, 2, 2, 5, 2, 5, 2, 3, 2, ...\n",
      "$ feature_2          <int> 2, 1, 2, 3, 3, 2, 2, 2, 1, 2, 2, 2, 2, 1, 2, 1, ...\n",
      "$ feature_3          <int> 1, 0, 0, 0, 0, 0, 1, 1, 0, 0, 1, 0, 1, 0, 1, 0, ...\n",
      "$ target             <dbl> -0.82028260, 0.39291325, 0.68805599, 0.14249520,...\n"
     ]
    }
   ],
   "source": [
    "glimpse(train)"
   ]
  },
  {
   "cell_type": "code",
   "execution_count": 11,
   "metadata": {},
   "outputs": [
    {
     "name": "stderr",
     "output_type": "stream",
     "text": [
      "\n",
      "Attaching package: ‘lubridate’\n",
      "\n",
      "The following object is masked from ‘package:base’:\n",
      "\n",
      "    date\n",
      "\n"
     ]
    }
   ],
   "source": [
    "library(lubridate)"
   ]
  },
  {
   "cell_type": "code",
   "execution_count": 20,
   "metadata": {},
   "outputs": [
    {
     "ename": "ERROR",
     "evalue": "Error: `data` must be a data frame, or other object coercible by `fortify()`, not an S3 object with class Date\n",
     "output_type": "error",
     "traceback": [
      "Error: `data` must be a data frame, or other object coercible by `fortify()`, not an S3 object with class Date\nTraceback:\n",
      "1. ymd(train$first_active_month, truncated = 1) %>% ggplot(aes(x = first_active_month, \n .     fill = set))",
      "2. withVisible(eval(quote(`_fseq`(`_lhs`)), env, env))",
      "3. eval(quote(`_fseq`(`_lhs`)), env, env)",
      "4. eval(quote(`_fseq`(`_lhs`)), env, env)",
      "5. `_fseq`(`_lhs`)",
      "6. freduce(value, `_function_list`)",
      "7. withVisible(function_list[[k]](value))",
      "8. function_list[[k]](value)",
      "9. ggplot(., aes(x = first_active_month, fill = set))",
      "10. ggplot.default(., aes(x = first_active_month, fill = set))",
      "11. fortify(data, ...)",
      "12. fortify.default(data, ...)",
      "13. stop(msg, call. = FALSE)"
     ]
    }
   ],
   "source": [
    " train %>% \n",
    "         first_active_month = ymd(train$first_active_month, truncated = 1) %>% \n",
    "  ggplot(aes(x = first_active_month, fill = set)) +\n",
    "  geom_bar() +\n",
    "  theme_minimal()"
   ]
  },
  {
   "cell_type": "markdown",
   "metadata": {},
   "source": [
    "#### Feature: Target"
   ]
  },
  {
   "cell_type": "code",
   "execution_count": 78,
   "metadata": {},
   "outputs": [],
   "source": [
    "#boxplot(train$target)"
   ]
  },
  {
   "cell_type": "code",
   "execution_count": 86,
   "metadata": {},
   "outputs": [
    {
     "data": {
      "text/html": [
       "2207"
      ],
      "text/latex": [
       "2207"
      ],
      "text/markdown": [
       "2207"
      ],
      "text/plain": [
       "[1] 2207"
      ]
     },
     "metadata": {},
     "output_type": "display_data"
    }
   ],
   "source": [
    "sum(train$target < -30)"
   ]
  },
  {
   "cell_type": "code",
   "execution_count": 87,
   "metadata": {},
   "outputs": [
    {
     "data": {
      "text/html": [
       "<table>\n",
       "<thead><tr><th scope=col>card_id</th><th scope=col>target</th></tr></thead>\n",
       "<tbody>\n",
       "\t<tr><td>C_ID_8186f3fcc1</td><td>-33.21928      </td></tr>\n",
       "\t<tr><td>C_ID_b9379a30ea</td><td>-33.21928      </td></tr>\n",
       "\t<tr><td>C_ID_e9120f535c</td><td>-33.21928      </td></tr>\n",
       "\t<tr><td>C_ID_65715cb80d</td><td>-33.21928      </td></tr>\n",
       "\t<tr><td>C_ID_ae77d244b6</td><td>-33.21928      </td></tr>\n",
       "\t<tr><td>C_ID_c4262c902e</td><td>-33.21928      </td></tr>\n",
       "</tbody>\n",
       "</table>\n"
      ],
      "text/latex": [
       "\\begin{tabular}{r|ll}\n",
       " card\\_id & target\\\\\n",
       "\\hline\n",
       "\t C\\_ID\\_8186f3fcc1 & -33.21928          \\\\\n",
       "\t C\\_ID\\_b9379a30ea & -33.21928          \\\\\n",
       "\t C\\_ID\\_e9120f535c & -33.21928          \\\\\n",
       "\t C\\_ID\\_65715cb80d & -33.21928          \\\\\n",
       "\t C\\_ID\\_ae77d244b6 & -33.21928          \\\\\n",
       "\t C\\_ID\\_c4262c902e & -33.21928          \\\\\n",
       "\\end{tabular}\n"
      ],
      "text/markdown": [
       "\n",
       "card_id | target | \n",
       "|---|---|---|---|---|---|\n",
       "| C_ID_8186f3fcc1 | -33.21928       | \n",
       "| C_ID_b9379a30ea | -33.21928       | \n",
       "| C_ID_e9120f535c | -33.21928       | \n",
       "| C_ID_65715cb80d | -33.21928       | \n",
       "| C_ID_ae77d244b6 | -33.21928       | \n",
       "| C_ID_c4262c902e | -33.21928       | \n",
       "\n",
       "\n"
      ],
      "text/plain": [
       "  card_id         target   \n",
       "1 C_ID_8186f3fcc1 -33.21928\n",
       "2 C_ID_b9379a30ea -33.21928\n",
       "3 C_ID_e9120f535c -33.21928\n",
       "4 C_ID_65715cb80d -33.21928\n",
       "5 C_ID_ae77d244b6 -33.21928\n",
       "6 C_ID_c4262c902e -33.21928"
      ]
     },
     "metadata": {},
     "output_type": "display_data"
    }
   ],
   "source": [
    "train %>% select(card_id, target) %>% filter(target < -30) %>% head()"
   ]
  },
  {
   "cell_type": "code",
   "execution_count": 88,
   "metadata": {},
   "outputs": [],
   "source": [
    "train_nooutliers <- train[train$target > -30,]\n",
    "# Remove Outliers with Target < -30"
   ]
  },
  {
   "cell_type": "code",
   "execution_count": 92,
   "metadata": {},
   "outputs": [],
   "source": [
    "Output <- select(train_nooutliers, card_id, target)"
   ]
  },
  {
   "cell_type": "code",
   "execution_count": 93,
   "metadata": {},
   "outputs": [
    {
     "data": {
      "text/html": [
       "<table>\n",
       "<thead><tr><th scope=col>card_id</th><th scope=col>target</th></tr></thead>\n",
       "<tbody>\n",
       "\t<tr><td>C_ID_92a2005557</td><td>-0.8202826     </td></tr>\n",
       "\t<tr><td>C_ID_3d0044924f</td><td> 0.3929132     </td></tr>\n",
       "\t<tr><td>C_ID_d639edf6cd</td><td> 0.6880560     </td></tr>\n",
       "\t<tr><td>C_ID_186d6a6901</td><td> 0.1424952     </td></tr>\n",
       "\t<tr><td>C_ID_cdbd2c0db2</td><td>-0.1597492     </td></tr>\n",
       "\t<tr><td>C_ID_0894217f2f</td><td> 0.8715853     </td></tr>\n",
       "</tbody>\n",
       "</table>\n"
      ],
      "text/latex": [
       "\\begin{tabular}{r|ll}\n",
       " card\\_id & target\\\\\n",
       "\\hline\n",
       "\t C\\_ID\\_92a2005557 & -0.8202826         \\\\\n",
       "\t C\\_ID\\_3d0044924f &  0.3929132         \\\\\n",
       "\t C\\_ID\\_d639edf6cd &  0.6880560         \\\\\n",
       "\t C\\_ID\\_186d6a6901 &  0.1424952         \\\\\n",
       "\t C\\_ID\\_cdbd2c0db2 & -0.1597492         \\\\\n",
       "\t C\\_ID\\_0894217f2f &  0.8715853         \\\\\n",
       "\\end{tabular}\n"
      ],
      "text/markdown": [
       "\n",
       "card_id | target | \n",
       "|---|---|---|---|---|---|\n",
       "| C_ID_92a2005557 | -0.8202826      | \n",
       "| C_ID_3d0044924f |  0.3929132      | \n",
       "| C_ID_d639edf6cd |  0.6880560      | \n",
       "| C_ID_186d6a6901 |  0.1424952      | \n",
       "| C_ID_cdbd2c0db2 | -0.1597492      | \n",
       "| C_ID_0894217f2f |  0.8715853      | \n",
       "\n",
       "\n"
      ],
      "text/plain": [
       "  card_id         target    \n",
       "1 C_ID_92a2005557 -0.8202826\n",
       "2 C_ID_3d0044924f  0.3929132\n",
       "3 C_ID_d639edf6cd  0.6880560\n",
       "4 C_ID_186d6a6901  0.1424952\n",
       "5 C_ID_cdbd2c0db2 -0.1597492\n",
       "6 C_ID_0894217f2f  0.8715853"
      ]
     },
     "metadata": {},
     "output_type": "display_data"
    }
   ],
   "source": [
    "head(Output)"
   ]
  },
  {
   "cell_type": "code",
   "execution_count": 94,
   "metadata": {},
   "outputs": [],
   "source": [
    "Input <- select(train_nooutliers, -target)"
   ]
  },
  {
   "cell_type": "markdown",
   "metadata": {},
   "source": [
    "#### Features1-3"
   ]
  },
  {
   "cell_type": "code",
   "execution_count": 95,
   "metadata": {},
   "outputs": [],
   "source": [
    "#hist(train$feature_1) #do for feature 1-3 and make it one picture"
   ]
  },
  {
   "cell_type": "code",
   "execution_count": 99,
   "metadata": {},
   "outputs": [],
   "source": [
    "Input <-fastDummies::dummy_cols(Input, select_columns = c(\"feature_1\",\"feature_2\",\"feature_3\")) # change to dummy column\n",
    "Input <- select(Input,-feature_1,-feature_2,-feature_3)"
   ]
  },
  {
   "cell_type": "code",
   "execution_count": 100,
   "metadata": {},
   "outputs": [
    {
     "data": {
      "text/html": [
       "<table>\n",
       "<thead><tr><th scope=col>first_active_month</th><th scope=col>card_id</th><th scope=col>feature_1_5</th><th scope=col>feature_1_4</th><th scope=col>feature_1_2</th><th scope=col>feature_1_1</th><th scope=col>feature_1_3</th><th scope=col>feature_2_2</th><th scope=col>feature_2_1</th><th scope=col>feature_2_3</th><th scope=col>feature_3_1</th><th scope=col>feature_3_0</th></tr></thead>\n",
       "<tbody>\n",
       "\t<tr><td>2017-06        </td><td>C_ID_92a2005557</td><td>1              </td><td>0              </td><td>0              </td><td>0              </td><td>0              </td><td>1              </td><td>0              </td><td>0              </td><td>1              </td><td>0              </td></tr>\n",
       "\t<tr><td>2017-01        </td><td>C_ID_3d0044924f</td><td>0              </td><td>1              </td><td>0              </td><td>0              </td><td>0              </td><td>0              </td><td>1              </td><td>0              </td><td>0              </td><td>1              </td></tr>\n",
       "\t<tr><td>2016-08        </td><td>C_ID_d639edf6cd</td><td>0              </td><td>0              </td><td>1              </td><td>0              </td><td>0              </td><td>1              </td><td>0              </td><td>0              </td><td>0              </td><td>1              </td></tr>\n",
       "\t<tr><td>2017-09        </td><td>C_ID_186d6a6901</td><td>0              </td><td>1              </td><td>0              </td><td>0              </td><td>0              </td><td>0              </td><td>0              </td><td>1              </td><td>0              </td><td>1              </td></tr>\n",
       "\t<tr><td>2017-11        </td><td>C_ID_cdbd2c0db2</td><td>0              </td><td>0              </td><td>0              </td><td>1              </td><td>0              </td><td>0              </td><td>0              </td><td>1              </td><td>0              </td><td>1              </td></tr>\n",
       "\t<tr><td>2016-09        </td><td>C_ID_0894217f2f</td><td>0              </td><td>1              </td><td>0              </td><td>0              </td><td>0              </td><td>1              </td><td>0              </td><td>0              </td><td>0              </td><td>1              </td></tr>\n",
       "</tbody>\n",
       "</table>\n"
      ],
      "text/latex": [
       "\\begin{tabular}{r|llllllllllll}\n",
       " first\\_active\\_month & card\\_id & feature\\_1\\_5 & feature\\_1\\_4 & feature\\_1\\_2 & feature\\_1\\_1 & feature\\_1\\_3 & feature\\_2\\_2 & feature\\_2\\_1 & feature\\_2\\_3 & feature\\_3\\_1 & feature\\_3\\_0\\\\\n",
       "\\hline\n",
       "\t 2017-06             & C\\_ID\\_92a2005557 & 1                   & 0                   & 0                   & 0                   & 0                   & 1                   & 0                   & 0                   & 1                   & 0                  \\\\\n",
       "\t 2017-01             & C\\_ID\\_3d0044924f & 0                   & 1                   & 0                   & 0                   & 0                   & 0                   & 1                   & 0                   & 0                   & 1                  \\\\\n",
       "\t 2016-08             & C\\_ID\\_d639edf6cd & 0                   & 0                   & 1                   & 0                   & 0                   & 1                   & 0                   & 0                   & 0                   & 1                  \\\\\n",
       "\t 2017-09             & C\\_ID\\_186d6a6901 & 0                   & 1                   & 0                   & 0                   & 0                   & 0                   & 0                   & 1                   & 0                   & 1                  \\\\\n",
       "\t 2017-11             & C\\_ID\\_cdbd2c0db2 & 0                   & 0                   & 0                   & 1                   & 0                   & 0                   & 0                   & 1                   & 0                   & 1                  \\\\\n",
       "\t 2016-09             & C\\_ID\\_0894217f2f & 0                   & 1                   & 0                   & 0                   & 0                   & 1                   & 0                   & 0                   & 0                   & 1                  \\\\\n",
       "\\end{tabular}\n"
      ],
      "text/markdown": [
       "\n",
       "first_active_month | card_id | feature_1_5 | feature_1_4 | feature_1_2 | feature_1_1 | feature_1_3 | feature_2_2 | feature_2_1 | feature_2_3 | feature_3_1 | feature_3_0 | \n",
       "|---|---|---|---|---|---|\n",
       "| 2017-06         | C_ID_92a2005557 | 1               | 0               | 0               | 0               | 0               | 1               | 0               | 0               | 1               | 0               | \n",
       "| 2017-01         | C_ID_3d0044924f | 0               | 1               | 0               | 0               | 0               | 0               | 1               | 0               | 0               | 1               | \n",
       "| 2016-08         | C_ID_d639edf6cd | 0               | 0               | 1               | 0               | 0               | 1               | 0               | 0               | 0               | 1               | \n",
       "| 2017-09         | C_ID_186d6a6901 | 0               | 1               | 0               | 0               | 0               | 0               | 0               | 1               | 0               | 1               | \n",
       "| 2017-11         | C_ID_cdbd2c0db2 | 0               | 0               | 0               | 1               | 0               | 0               | 0               | 1               | 0               | 1               | \n",
       "| 2016-09         | C_ID_0894217f2f | 0               | 1               | 0               | 0               | 0               | 1               | 0               | 0               | 0               | 1               | \n",
       "\n",
       "\n"
      ],
      "text/plain": [
       "  first_active_month card_id         feature_1_5 feature_1_4 feature_1_2\n",
       "1 2017-06            C_ID_92a2005557 1           0           0          \n",
       "2 2017-01            C_ID_3d0044924f 0           1           0          \n",
       "3 2016-08            C_ID_d639edf6cd 0           0           1          \n",
       "4 2017-09            C_ID_186d6a6901 0           1           0          \n",
       "5 2017-11            C_ID_cdbd2c0db2 0           0           0          \n",
       "6 2016-09            C_ID_0894217f2f 0           1           0          \n",
       "  feature_1_1 feature_1_3 feature_2_2 feature_2_1 feature_2_3 feature_3_1\n",
       "1 0           0           1           0           0           1          \n",
       "2 0           0           0           1           0           0          \n",
       "3 0           0           1           0           0           0          \n",
       "4 0           0           0           0           1           0          \n",
       "5 1           0           0           0           1           0          \n",
       "6 0           0           1           0           0           0          \n",
       "  feature_3_0\n",
       "1 0          \n",
       "2 1          \n",
       "3 1          \n",
       "4 1          \n",
       "5 1          \n",
       "6 1          "
      ]
     },
     "metadata": {},
     "output_type": "display_data"
    }
   ],
   "source": [
    "head(Input)"
   ]
  },
  {
   "cell_type": "code",
   "execution_count": null,
   "metadata": {},
   "outputs": [],
   "source": []
  }
 ],
 "metadata": {
  "kernelspec": {
   "display_name": "R",
   "language": "R",
   "name": "ir"
  },
  "language_info": {
   "codemirror_mode": "r",
   "file_extension": ".r",
   "mimetype": "text/x-r-source",
   "name": "R",
   "pygments_lexer": "r",
   "version": "3.5.1"
  }
 },
 "nbformat": 4,
 "nbformat_minor": 2
}
