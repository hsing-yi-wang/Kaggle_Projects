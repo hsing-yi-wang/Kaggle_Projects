{
 "cells": [
  {
   "cell_type": "code",
   "execution_count": 10,
   "metadata": {},
   "outputs": [
    {
     "name": "stderr",
     "output_type": "stream",
     "text": [
      "Updating HTML index of packages in '.Library'\n",
      "Making 'packages.html' ... done\n",
      "Warning message in install.packages(\"readr\"):\n",
      "“installation of package ‘readr’ had non-zero exit status”Updating HTML index of packages in '.Library'\n",
      "Making 'packages.html' ... done\n"
     ]
    }
   ],
   "source": [
    "#install.packages('GA')\n",
    "#install.packages('Metrics')\n",
    "#install.packages('corrplot')\n",
    "#install.packages('Rmisc')\n",
    "#install.packages('lubridate')\n",
    "#install.packages('scales')\n",
    "#install.packages('lightgbm')\n",
    "#install.packages('xgboost')\n",
    "#install.packages('keras')\n",
    "#install.packages('magrittr')\n",
    "install.packages('tidyverse')\n",
    "install.packages('readr')"
   ]
  },
  {
   "cell_type": "code",
   "execution_count": 11,
   "metadata": {},
   "outputs": [
    {
     "name": "stderr",
     "output_type": "stream",
     "text": [
      "── Attaching packages ─────────────────────────────────────── tidyverse 1.2.1 ──\n",
      "✔ ggplot2 3.0.0     ✔ purrr   0.2.5\n",
      "✔ tibble  1.4.2     ✔ dplyr   0.7.6\n",
      "✔ tidyr   0.8.1     ✔ stringr 1.3.1\n",
      "✔ readr   1.1.1     ✔ forcats 0.3.0\n",
      "── Conflicts ────────────────────────────────────────── tidyverse_conflicts() ──\n",
      "✖ dplyr::filter() masks stats::filter()\n",
      "✖ dplyr::lag()    masks stats::lag()\n"
     ]
    }
   ],
   "source": [
    "library(tidyverse)\n",
    "library(readr)"
   ]
  },
  {
   "cell_type": "code",
   "execution_count": null,
   "metadata": {},
   "outputs": [],
   "source": [
    "historical_transactions <- read_csv(\"/Users/eve7947/Downloads/elo-merchant-category-recommendation/historical_transactions.csv\")\n",
    "merchants <- read_csv(\"/Users/eve7947/Downloads/elo-merchant-category-recommendation/merchants.csv\")\n",
    "new_merchant_transactions <- read_csv(\"/Users/eve7947/Downloads/elo-merchant-category-recommendation/new_merchant_transactions.csv\")\n",
    "sample_submission <- read_csv(\"/Users/eve7947/Downloads/elo-merchant-category-recommendation/sample_submission.csv\")\n",
    "test <- read_csv(\"/Users/eve7947/Downloads/elo-merchant-category-recommendation/test.csv\")\n",
    "train <- read_csv(\"/Users/eve7947/Downloads/elo-merchant-category-recommendation/train.csv\")\n"
   ]
  }
 ],
 "metadata": {
  "kernelspec": {
   "display_name": "R",
   "language": "R",
   "name": "ir"
  },
  "language_info": {
   "codemirror_mode": "r",
   "file_extension": ".r",
   "mimetype": "text/x-r-source",
   "name": "R",
   "pygments_lexer": "r",
   "version": "3.5.1"
  }
 },
 "nbformat": 4,
 "nbformat_minor": 2
}
