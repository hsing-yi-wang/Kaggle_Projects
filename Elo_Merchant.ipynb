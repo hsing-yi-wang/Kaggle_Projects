{
 "cells": [
  {
   "cell_type": "markdown",
   "metadata": {},
   "source": [
    "## Elo Merchant Category Recommendation - User Loyalty Prediction"
   ]
  },
  {
   "cell_type": "markdown",
   "metadata": {},
   "source": [
    "### Hsing-Yi Wang, Yi-Ying Peng"
   ]
  },
  {
   "cell_type": "markdown",
   "metadata": {},
   "source": [
    "##### Mar. 14, 2019"
   ]
  },
  {
   "cell_type": "markdown",
   "metadata": {},
   "source": [
    "## Introduction, Motivation"
   ]
  },
  {
   "cell_type": "code",
   "execution_count": null,
   "metadata": {},
   "outputs": [],
   "source": []
  },
  {
   "cell_type": "markdown",
   "metadata": {},
   "source": [
    "## Import Library"
   ]
  },
  {
   "cell_type": "code",
   "execution_count": null,
   "metadata": {},
   "outputs": [],
   "source": [
    "# install.packages(\"dummies\")\n",
    "# install.packages(\"fastDummies\")\n",
    "# install.packages('tidyverse')\n",
    "# install.packages(\"RColorBrewer\")"
   ]
  },
  {
   "cell_type": "code",
   "execution_count": 30,
   "metadata": {},
   "outputs": [
    {
     "name": "stderr",
     "output_type": "stream",
     "text": [
      "\n",
      "Attaching package: ‘lubridate’\n",
      "\n",
      "The following object is masked from ‘package:base’:\n",
      "\n",
      "    date\n",
      "\n"
     ]
    }
   ],
   "source": [
    "# library(readr)\n",
    "# library(dplyr)\n",
    "# library(dummies)\n",
    "# library(fastDummies)\n",
    "# library(tidyverse)\n",
    "# library(\"RColorBrewer\")\n",
    "# library(repr)\n",
    "library(lubridate)"
   ]
  },
  {
   "cell_type": "markdown",
   "metadata": {},
   "source": [
    "## Load Data"
   ]
  },
  {
   "cell_type": "code",
   "execution_count": 6,
   "metadata": {},
   "outputs": [],
   "source": [
    "# historical_transactions <- read_csv(\"/Users/eve7947/Downloads/elo-merchant-category-recommendation/historical_transactions.csv\")\n",
    "# merchants <- read_csv(\"/Users/eve7947/Downloads/elo-merchant-category-recommendation/merchants.csv\")\n",
    "# new_merchant_transactions <- read_csv(\"/Users/eve7947/Downloads/elo-merchant-category-recommendation/new_merchant_transactions.csv\")\n",
    "# sample_submission <- read_csv(\"/Users/eve7947/Downloads/elo-merchant-category-recommendation/sample_submission.csv\")\n",
    "# test <- read_csv(\"/Users/eve7947/Downloads/elo-merchant-category-recommendation/test.csv\")\n",
    "# train <- read_csv(\"/Users/eve7947/Downloads/elo-merchant-category-recommendation/train.csv\")"
   ]
  },
  {
   "cell_type": "markdown",
   "metadata": {},
   "source": [
    "## Describe Data"
   ]
  },
  {
   "cell_type": "markdown",
   "metadata": {},
   "source": [
    "### Training Data"
   ]
  },
  {
   "cell_type": "markdown",
   "metadata": {},
   "source": [
    "Contains the card_id used for training, and loyalty score which is our dependent variables. "
   ]
  },
  {
   "cell_type": "code",
   "execution_count": 29,
   "metadata": {},
   "outputs": [
    {
     "name": "stdout",
     "output_type": "stream",
     "text": [
      "Observations: 201,917\n",
      "Variables: 6\n",
      "$ first_active_month <chr> \"2017-06\", \"2017-01\", \"2016-08\", \"2017-09\", \"201...\n",
      "$ card_id            <chr> \"C_ID_92a2005557\", \"C_ID_3d0044924f\", \"C_ID_d639...\n",
      "$ feature_1          <int> 5, 4, 2, 4, 1, 4, 3, 3, 2, 2, 5, 2, 5, 2, 3, 2, ...\n",
      "$ feature_2          <int> 2, 1, 2, 3, 3, 2, 2, 2, 1, 2, 2, 2, 2, 1, 2, 1, ...\n",
      "$ feature_3          <int> 1, 0, 0, 0, 0, 0, 1, 1, 0, 0, 1, 0, 1, 0, 1, 0, ...\n",
      "$ target             <dbl> -0.82028260, 0.39291325, 0.68805599, 0.14249520,...\n"
     ]
    }
   ],
   "source": [
    "glimpse(train)"
   ]
  },
  {
   "cell_type": "code",
   "execution_count": 10,
   "metadata": {},
   "outputs": [
    {
     "data": {
      "text/html": [
       "<dl class=dl-horizontal>\n",
       "\t<dt>first_active_month</dt>\n",
       "\t\t<dd>'character'</dd>\n",
       "\t<dt>card_id</dt>\n",
       "\t\t<dd>'character'</dd>\n",
       "\t<dt>feature_1</dt>\n",
       "\t\t<dd>'integer'</dd>\n",
       "\t<dt>feature_2</dt>\n",
       "\t\t<dd>'integer'</dd>\n",
       "\t<dt>feature_3</dt>\n",
       "\t\t<dd>'integer'</dd>\n",
       "\t<dt>target</dt>\n",
       "\t\t<dd>'numeric'</dd>\n",
       "</dl>\n"
      ],
      "text/latex": [
       "\\begin{description*}\n",
       "\\item[first\\textbackslash{}\\_active\\textbackslash{}\\_month] 'character'\n",
       "\\item[card\\textbackslash{}\\_id] 'character'\n",
       "\\item[feature\\textbackslash{}\\_1] 'integer'\n",
       "\\item[feature\\textbackslash{}\\_2] 'integer'\n",
       "\\item[feature\\textbackslash{}\\_3] 'integer'\n",
       "\\item[target] 'numeric'\n",
       "\\end{description*}\n"
      ],
      "text/markdown": [
       "first_active_month\n",
       ":   'character'card_id\n",
       ":   'character'feature_1\n",
       ":   'integer'feature_2\n",
       ":   'integer'feature_3\n",
       ":   'integer'target\n",
       ":   'numeric'\n",
       "\n"
      ],
      "text/plain": [
       "first_active_month            card_id          feature_1          feature_2 \n",
       "       \"character\"        \"character\"          \"integer\"          \"integer\" \n",
       "         feature_3             target \n",
       "         \"integer\"          \"numeric\" "
      ]
     },
     "metadata": {},
     "output_type": "display_data"
    }
   ],
   "source": [
    "sapply(train,class)"
   ]
  },
  {
   "cell_type": "code",
   "execution_count": 7,
   "metadata": {},
   "outputs": [
    {
     "data": {
      "text/plain": [
       " first_active_month   card_id            feature_1       feature_2    \n",
       " Length:201917      Length:201917      Min.   :1.000   Min.   :1.000  \n",
       " Class :character   Class :character   1st Qu.:2.000   1st Qu.:1.000  \n",
       " Mode  :character   Mode  :character   Median :3.000   Median :2.000  \n",
       "                                       Mean   :3.105   Mean   :1.745  \n",
       "                                       3rd Qu.:4.000   3rd Qu.:2.000  \n",
       "                                       Max.   :5.000   Max.   :3.000  \n",
       "   feature_3          target         \n",
       " Min.   :0.0000   Min.   :-33.21928  \n",
       " 1st Qu.:0.0000   1st Qu.: -0.88311  \n",
       " Median :1.0000   Median : -0.02344  \n",
       " Mean   :0.5656   Mean   : -0.39364  \n",
       " 3rd Qu.:1.0000   3rd Qu.:  0.76545  \n",
       " Max.   :1.0000   Max.   : 17.96507  "
      ]
     },
     "metadata": {},
     "output_type": "display_data"
    }
   ],
   "source": [
    "summary(train)"
   ]
  },
  {
   "cell_type": "code",
   "execution_count": 16,
   "metadata": {},
   "outputs": [],
   "source": [
    "options(repr.plot.width=8, repr.plot.height=3)"
   ]
  },
  {
   "cell_type": "code",
   "execution_count": 26,
   "metadata": {},
   "outputs": [
    {
     "name": "stderr",
     "output_type": "stream",
     "text": [
      "Warning message in brewer.pal(n = 2, name = \"Set3\"):\n",
      "“minimal value for n is 3, returning requested palette with 3 different levels\n",
      "”"
     ]
    },
    {
     "data": {
      "image/png": "[encoded data removed]",
      "text/plain": [
       "Plot with title “Feature 3 Distribution”"
      ]
     },
     "metadata": {},
     "output_type": "display_data"
    }
   ],
   "source": [
    "par(mfrow=c(1,3))\n",
    "counts1 <- table(train$feature_1)\n",
    "counts2 <- table(train$feature_2)\n",
    "counts3 <- table(train$feature_3)\n",
    "barplot(counts1, col=brewer.pal(n=5, name=\"Set3\"), main=\"Feature 1 Distribution\", xlab=\"Count of Categories\")\n",
    "barplot(counts2, col=brewer.pal(n=3, name=\"Set3\"), main=\"Feature 2 Distribution\", xlab=\"Count of Categories\")\n",
    "barplot(counts3, col=brewer.pal(n=2, name=\"Set3\"), main=\"Feature 3 Distribution\", xlab=\"Count of Categories\")"
   ]
  },
  {
   "cell_type": "code",
   "execution_count": 28,
   "metadata": {},
   "outputs": [
    {
     "ename": "ERROR",
     "evalue": "Error in hist.default(train$first_active_month): 'x' must be numeric\n",
     "output_type": "error",
     "traceback": [
      "Error in hist.default(train$first_active_month): 'x' must be numeric\nTraceback:\n",
      "1. hist(train$first_active_month)",
      "2. hist.default(train$first_active_month)",
      "3. stop(\"'x' must be numeric\")"
     ]
    }
   ],
   "source": [
    "hist(train$first_active_month)"
   ]
  },
  {
   "cell_type": "code",
   "execution_count": 31,
   "metadata": {},
   "outputs": [],
   "source": [
    "options(repr.plot.width=8, repr.plot.height=3)"
   ]
  },
  {
   "cell_type": "code",
   "execution_count": 33,
   "metadata": {},
   "outputs": [
    {
     "name": "stderr",
     "output_type": "stream",
     "text": [
      "Warning message:\n",
      "“Removed 1 rows containing non-finite values (stat_count).”"
     ]
    },
    {
     "data": {},
     "metadata": {},
     "output_type": "display_data"
    },
    {
     "data": {
      "image/png": "[encoded data removed]",
      "text/plain": [
       "plot without title"
      ]
     },
     "metadata": {},
     "output_type": "display_data"
    }
   ],
   "source": [
    "train %>% \n",
    "bind_rows(test) %>% \n",
    "mutate(set = factor(if_else(is.na(target), \"Test\", \"Train\")),\n",
    " first_active_month = ymd(first_active_month, truncated = 1)) %>% \n",
    "ggplot(aes(x = first_active_month, fill = set)) + geom_bar() + theme_minimal()"
   ]
  },
  {
   "cell_type": "markdown",
   "metadata": {},
   "source": [
    "### Testing Data"
   ]
  },
  {
   "cell_type": "markdown",
   "metadata": {},
   "source": [
    "Contains the card_id used for prediction."
   ]
  },
  {
   "cell_type": "code",
   "execution_count": null,
   "metadata": {},
   "outputs": [],
   "source": []
  },
  {
   "cell_type": "markdown",
   "metadata": {},
   "source": [
    "### History"
   ]
  },
  {
   "cell_type": "markdown",
   "metadata": {},
   "source": [
    "Contains up to 3 months' worth of transactions for every card."
   ]
  },
  {
   "cell_type": "code",
   "execution_count": null,
   "metadata": {},
   "outputs": [],
   "source": []
  },
  {
   "cell_type": "markdown",
   "metadata": {},
   "source": [
    "### New Merchant Period"
   ]
  },
  {
   "cell_type": "markdown",
   "metadata": {},
   "source": [
    "Contains the transactions at new merchants (merchant_ids that this particular card_id has not yet visited) over a period of two months."
   ]
  },
  {
   "cell_type": "code",
   "execution_count": null,
   "metadata": {},
   "outputs": [],
   "source": []
  },
  {
   "cell_type": "markdown",
   "metadata": {},
   "source": [
    "### Merchant"
   ]
  },
  {
   "cell_type": "markdown",
   "metadata": {},
   "source": [
    "Contains aggregate information for each merchant_id"
   ]
  },
  {
   "cell_type": "code",
   "execution_count": null,
   "metadata": {},
   "outputs": [],
   "source": []
  },
  {
   "cell_type": "markdown",
   "metadata": {},
   "source": [
    "## Check Data Quality"
   ]
  },
  {
   "cell_type": "code",
   "execution_count": null,
   "metadata": {},
   "outputs": [],
   "source": []
  },
  {
   "cell_type": "markdown",
   "metadata": {},
   "source": [
    "## Integration of  Data"
   ]
  },
  {
   "cell_type": "code",
   "execution_count": null,
   "metadata": {},
   "outputs": [],
   "source": []
  },
  {
   "cell_type": "markdown",
   "metadata": {},
   "source": [
    "## Linear Regression"
   ]
  },
  {
   "cell_type": "code",
   "execution_count": null,
   "metadata": {},
   "outputs": [],
   "source": []
  }
 ],
 "metadata": {
  "kernelspec": {
   "display_name": "R",
   "language": "R",
   "name": "ir"
  },
  "language_info": {
   "codemirror_mode": "r",
   "file_extension": ".r",
   "mimetype": "text/x-r-source",
   "name": "R",
   "pygments_lexer": "r",
   "version": "3.5.1"
  }
 },
 "nbformat": 4,
 "nbformat_minor": 2
}
